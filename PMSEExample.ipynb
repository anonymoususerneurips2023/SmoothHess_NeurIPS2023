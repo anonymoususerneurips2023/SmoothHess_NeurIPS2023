{
 "cells": [
  {
   "attachments": {},
   "cell_type": "markdown",
   "metadata": {},
   "source": [
    "# Perturbation Mean Squared Error (P-MSE)\n",
    "\n",
    "### Given one or more points, a model and a function of interest, this script computes:\n",
    "### (i) SmoothHess, SmoothGrad, SoftPluss Hess, SoftPlus Grad and Vanilla Grad \n",
    "### (ii) P-MSE of each method for the points\n",
    "\n",
    "### The Script As Is Below Runs in <7 mins on an NVIDIA V100 32GB"
   ]
  },
  {
   "cell_type": "code",
   "execution_count": 12,
   "metadata": {},
   "outputs": [],
   "source": [
    "import pandas as pd\n",
    "import numpy as np\n",
    "import torch \n",
    "import sys\n",
    "import matplotlib.pyplot as plt\n",
    "import warnings\n",
    "warnings.filterwarnings(\"ignore\")\n",
    "\n",
    "# Local Imports \n",
    "from Datasets import * \n",
    "from Models import * \n",
    "from ComputeDerivatives import Generate_Grad_Hess_From_List\n",
    "from Evaluation import Compute_PMSE"
   ]
  },
  {
   "attachments": {},
   "cell_type": "markdown",
   "metadata": {},
   "source": [
    "# For User To Choose:\n",
    "### Dataset, Function of Interest, Number of points to evaluate, Radius, Sigma and Beta "
   ]
  },
  {
   "cell_type": "code",
   "execution_count": 13,
   "metadata": {},
   "outputs": [],
   "source": [
    "dataset = \"MNIST\" # Choose Dataset From: { MNIST, FMNIST or CIFAR10 }\n",
    "function = \"Logit\" # Choose Function Of Interest From: { Logit, SoftMax, Penult_X} where X is the desired integer index of any penultimate neuron \n",
    "ind = 0  # Starting index for eval\n",
    "hop = 15 # Number of points to eval i.e. ind = 1 hop = 10 --> points used index: 10, 11, 12, ..., 19 \n",
    "rs = [0.5]  ####### Radius of interest for P-MSE , include in list format \n",
    "\n",
    "##### Smoothing Method Hyperparameters ############\n",
    "sigma = 1.8e-4 # SmoothHess SmoothGrad Hyperparamter  --- 1.8e-4 is best found value for MNIST Logit for SmoothGrad and SmoothHess + SmoothGrad\n",
    "beta = 180     # SoftPlus Hyperparameter ----- 200 is best found value for MNIST Logit for SoftPlus Grad and SoftPlus Hess + SoftPlus Grad \n",
    "##########################################"
   ]
  },
  {
   "attachments": {},
   "cell_type": "markdown",
   "metadata": {},
   "source": [
    "## Config\n",
    "### Includes Reccomended configs for each dataset"
   ]
  },
  {
   "cell_type": "code",
   "execution_count": 14,
   "metadata": {},
   "outputs": [],
   "source": [
    "# Reccomended Loadouts for Each Dataset\n",
    "if dataset == \"MNIST\":\n",
    "    args = {\n",
    "        \"function_use\" : function, \n",
    "        \"iterations\" : 30,\n",
    "        \"n1\" : 20000, \n",
    "        \"ConvNet\" : 0, \n",
    "        \"Symmetrize\" : 1,\n",
    "        \"ReflectSamples\": 1,\n",
    "        \"dataset\" :  dataset,\n",
    "        \"batch_size\" : 1000, \n",
    "        \"valstart\" : 50000,\n",
    "        \"OriginalDim\" : (784,)\n",
    "    }\n",
    "\n",
    "    # Used to construct network \n",
    "    network_args = {\n",
    "        \"network\": \"FCN\",\n",
    "        \"input_dim\": 784,\n",
    "        \"feature_dim\" :  250,          \n",
    "        \"network_dimensions\" : \"500-300-250-250\",\n",
    "        \"loss_type\" : \"supervised_ce\", \n",
    "        \"num_classes\" : 10 \n",
    "    }\n",
    "\n",
    "    PMSE_N1, PMSE_N2 = 15000, 1 \n",
    "\n",
    "elif dataset == \"FMNIST\":\n",
    "    args = {\n",
    "        \"function_use\" : function, \n",
    "        \"iterations\" : 30,\n",
    "        \"n1\" : 20000, \n",
    "        \"ConvNet\" : 0, \n",
    "        \"Symmetrize\" : 1,\n",
    "        \"ReflectSamples\": 1,\n",
    "        \"dataset\" :  dataset,\n",
    "        \"batch_size\" : 1000,\n",
    "        \"valstart\" : 50000,\n",
    "        \"OriginalDim\" : (784,)\n",
    "    }\n",
    "     \n",
    "    network_args = {\n",
    "        \"network\": \"FCN\",\n",
    "        \"input_dim\": 784,\n",
    "        \"feature_dim\" :  250,          \n",
    "        \"network_dimensions\" : \"500-300-250-250\",\n",
    "        \"loss_type\" : \"supervised_ce\", \n",
    "        \"num_classes\" : 10 \n",
    "    }\n",
    "\n",
    "    PMSE_N1, PMSE_N2 = 15000, 1 \n",
    "\n",
    "     \n",
    "elif dataset == \"CIFAR10\":\n",
    "    args = {\n",
    "        \"function_use\" : function, \n",
    "        \"iterations\" : 120,\n",
    "        \"n1\" : 2000, \n",
    "        \"ConvNet\" : 1, \n",
    "        \"Symmetrize\" : 1,\n",
    "        \"ReflectSamples\": 1,\n",
    "        \"dataset\" :  dataset,\n",
    "        \"batch_size\" : 1000,\n",
    "        \"valstart\" : 40000,\n",
    "        \"OriginalDim\" : (3,32,32)\n",
    "    }\n",
    "\n",
    "    network_args = {\n",
    "        \"pretrained\" : 0 ,\n",
    "        \"resnet\" : \"resnet18\",\n",
    "        \"cifarstyle\" : 1, \n",
    "        \"num_classes\" : 10,\n",
    "        'network': \"ResNet\"\n",
    "    }\n",
    "    \n",
    "    PMSE_N1, PMSE_N2 = 3000, 5 \n",
    "\n",
    "assert dataset in [\"MNIST\", \"FMNIST\", \"CIFAR10\"]; \n",
    "args['binary'] = False \n",
    "args['ind'] = ind\n",
    "args['hop'] = hop\n",
    "args['sigma'] = sigma\n",
    "args['beta'] = beta \n",
    "args['rs'] = rs \n",
    "args['savedir'] = \"./ExplainerResults/\""
   ]
  },
  {
   "attachments": {},
   "cell_type": "markdown",
   "metadata": {},
   "source": [
    "## Load Data and Model"
   ]
  },
  {
   "cell_type": "code",
   "execution_count": 15,
   "metadata": {},
   "outputs": [],
   "source": [
    "# Load Data \n",
    "train_loader, train_data, val_loader, val_data, test_loader, test_data, train_no_shuffle_no_aug_data, train_no_shuffle_no_aug_loader = getattr(sys.modules[__name__], args['dataset'])(**args)\n",
    "data, _ = next(iter(test_loader))\n",
    "if dataset in [\"MNIST\", 'FMNIST']: # Flatten FCN datasets \n",
    "    data = data.view(len(data), -1)\n",
    "data_use = data[ind * hop  : (ind + 1 ) * hop,:]\n",
    "\n",
    "# Load Model\n",
    "model = getattr(sys.modules[__name__], network_args['network'])(**network_args).cuda()\n",
    "model.load_state_dict(torch.load(\"./Models/\" + dataset  + \".pth\"))\n",
    "model = model.eval()\n",
    "model = model.cuda()"
   ]
  },
  {
   "attachments": {},
   "cell_type": "markdown",
   "metadata": {},
   "source": [
    "# Estimate SmoothHess and SmoothGrad"
   ]
  },
  {
   "cell_type": "code",
   "execution_count": 16,
   "metadata": {},
   "outputs": [
    {
     "name": "stdout",
     "output_type": "stream",
     "text": [
      "Computing for point 0\n"
     ]
    },
    {
     "data": {
      "application/vnd.jupyter.widget-view+json": {
       "model_id": "36ad507f8ab84fa2b792c4fd5bf6ef5d",
       "version_major": 2,
       "version_minor": 0
      },
      "text/plain": [
       "HBox(children=(HTML(value=''), FloatProgress(value=0.0, max=30.0), HTML(value='')))"
      ]
     },
     "metadata": {},
     "output_type": "display_data"
    },
    {
     "name": "stdout",
     "output_type": "stream",
     "text": [
      "\n"
     ]
    },
    {
     "data": {
      "application/vnd.jupyter.widget-view+json": {
       "model_id": "27523b892a04401f83f584f0f09fb31e",
       "version_major": 2,
       "version_minor": 0
      },
      "text/plain": [
       "HBox(children=(HTML(value=''), FloatProgress(value=0.0, max=30.0), HTML(value='')))"
      ]
     },
     "metadata": {},
     "output_type": "display_data"
    },
    {
     "name": "stdout",
     "output_type": "stream",
     "text": [
      "\n"
     ]
    },
    {
     "data": {
      "application/vnd.jupyter.widget-view+json": {
       "model_id": "03ea88fc0d6048b7a8f6f0c61a1d3dfa",
       "version_major": 2,
       "version_minor": 0
      },
      "text/plain": [
       "HBox(children=(HTML(value=''), FloatProgress(value=0.0, max=30.0), HTML(value='')))"
      ]
     },
     "metadata": {},
     "output_type": "display_data"
    },
    {
     "name": "stdout",
     "output_type": "stream",
     "text": [
      "\n"
     ]
    },
    {
     "data": {
      "application/vnd.jupyter.widget-view+json": {
       "model_id": "468b06332fd64c2e95cb4611eba79892",
       "version_major": 2,
       "version_minor": 0
      },
      "text/plain": [
       "HBox(children=(HTML(value=''), FloatProgress(value=0.0, max=30.0), HTML(value='')))"
      ]
     },
     "metadata": {},
     "output_type": "display_data"
    },
    {
     "name": "stdout",
     "output_type": "stream",
     "text": [
      "\n"
     ]
    },
    {
     "data": {
      "application/vnd.jupyter.widget-view+json": {
       "model_id": "7e9dcd8343e544238f358e2cb9a4ea83",
       "version_major": 2,
       "version_minor": 0
      },
      "text/plain": [
       "HBox(children=(HTML(value=''), FloatProgress(value=0.0, max=30.0), HTML(value='')))"
      ]
     },
     "metadata": {},
     "output_type": "display_data"
    },
    {
     "name": "stdout",
     "output_type": "stream",
     "text": [
      "\n",
      "Computing for point 5\n"
     ]
    },
    {
     "data": {
      "application/vnd.jupyter.widget-view+json": {
       "model_id": "e13b75e81df841bb85c01f8a809e4713",
       "version_major": 2,
       "version_minor": 0
      },
      "text/plain": [
       "HBox(children=(HTML(value=''), FloatProgress(value=0.0, max=30.0), HTML(value='')))"
      ]
     },
     "metadata": {},
     "output_type": "display_data"
    },
    {
     "name": "stdout",
     "output_type": "stream",
     "text": [
      "\n"
     ]
    },
    {
     "data": {
      "application/vnd.jupyter.widget-view+json": {
       "model_id": "137852e9b9a54019b7837664a1a22ef3",
       "version_major": 2,
       "version_minor": 0
      },
      "text/plain": [
       "HBox(children=(HTML(value=''), FloatProgress(value=0.0, max=30.0), HTML(value='')))"
      ]
     },
     "metadata": {},
     "output_type": "display_data"
    },
    {
     "name": "stdout",
     "output_type": "stream",
     "text": [
      "\n"
     ]
    },
    {
     "data": {
      "application/vnd.jupyter.widget-view+json": {
       "model_id": "d77c7dfbd7ca4c059eb4d33e147a084f",
       "version_major": 2,
       "version_minor": 0
      },
      "text/plain": [
       "HBox(children=(HTML(value=''), FloatProgress(value=0.0, max=30.0), HTML(value='')))"
      ]
     },
     "metadata": {},
     "output_type": "display_data"
    },
    {
     "name": "stdout",
     "output_type": "stream",
     "text": [
      "\n"
     ]
    },
    {
     "data": {
      "application/vnd.jupyter.widget-view+json": {
       "model_id": "e3b712d3545b4d4ebd75efaaf4d4d29c",
       "version_major": 2,
       "version_minor": 0
      },
      "text/plain": [
       "HBox(children=(HTML(value=''), FloatProgress(value=0.0, max=30.0), HTML(value='')))"
      ]
     },
     "metadata": {},
     "output_type": "display_data"
    },
    {
     "name": "stdout",
     "output_type": "stream",
     "text": [
      "\n"
     ]
    },
    {
     "data": {
      "application/vnd.jupyter.widget-view+json": {
       "model_id": "b4036be374514e65a951462810e2d002",
       "version_major": 2,
       "version_minor": 0
      },
      "text/plain": [
       "HBox(children=(HTML(value=''), FloatProgress(value=0.0, max=30.0), HTML(value='')))"
      ]
     },
     "metadata": {},
     "output_type": "display_data"
    },
    {
     "name": "stdout",
     "output_type": "stream",
     "text": [
      "\n",
      "Computing for point 10\n"
     ]
    },
    {
     "data": {
      "application/vnd.jupyter.widget-view+json": {
       "model_id": "aa1e89bfef7444fca36958fe391f7a12",
       "version_major": 2,
       "version_minor": 0
      },
      "text/plain": [
       "HBox(children=(HTML(value=''), FloatProgress(value=0.0, max=30.0), HTML(value='')))"
      ]
     },
     "metadata": {},
     "output_type": "display_data"
    },
    {
     "name": "stdout",
     "output_type": "stream",
     "text": [
      "\n"
     ]
    },
    {
     "data": {
      "application/vnd.jupyter.widget-view+json": {
       "model_id": "a8e6c1622c234d378ea01de7a7c657e5",
       "version_major": 2,
       "version_minor": 0
      },
      "text/plain": [
       "HBox(children=(HTML(value=''), FloatProgress(value=0.0, max=30.0), HTML(value='')))"
      ]
     },
     "metadata": {},
     "output_type": "display_data"
    },
    {
     "name": "stdout",
     "output_type": "stream",
     "text": [
      "\n"
     ]
    },
    {
     "data": {
      "application/vnd.jupyter.widget-view+json": {
       "model_id": "15641f50daba457a9d7e7412857841a5",
       "version_major": 2,
       "version_minor": 0
      },
      "text/plain": [
       "HBox(children=(HTML(value=''), FloatProgress(value=0.0, max=30.0), HTML(value='')))"
      ]
     },
     "metadata": {},
     "output_type": "display_data"
    },
    {
     "name": "stdout",
     "output_type": "stream",
     "text": [
      "\n"
     ]
    },
    {
     "data": {
      "application/vnd.jupyter.widget-view+json": {
       "model_id": "5e84bd62c7e94532954c35a1007c9d01",
       "version_major": 2,
       "version_minor": 0
      },
      "text/plain": [
       "HBox(children=(HTML(value=''), FloatProgress(value=0.0, max=30.0), HTML(value='')))"
      ]
     },
     "metadata": {},
     "output_type": "display_data"
    },
    {
     "name": "stdout",
     "output_type": "stream",
     "text": [
      "\n"
     ]
    },
    {
     "data": {
      "application/vnd.jupyter.widget-view+json": {
       "model_id": "fca98ea909c04381a8bbfc3dd6a5b340",
       "version_major": 2,
       "version_minor": 0
      },
      "text/plain": [
       "HBox(children=(HTML(value=''), FloatProgress(value=0.0, max=30.0), HTML(value='')))"
      ]
     },
     "metadata": {},
     "output_type": "display_data"
    },
    {
     "name": "stdout",
     "output_type": "stream",
     "text": [
      "\n"
     ]
    }
   ],
   "source": [
    "SmoothGrad_List, SmoothHess_List = Generate_Grad_Hess_From_List(model, data_use, args, \"Smooth\")"
   ]
  },
  {
   "attachments": {},
   "cell_type": "markdown",
   "metadata": {},
   "source": [
    "## Estimate P-MSE for SmoothHess and SmoothGrad"
   ]
  },
  {
   "cell_type": "code",
   "execution_count": 17,
   "metadata": {},
   "outputs": [
    {
     "name": "stdout",
     "output_type": "stream",
     "text": [
      "Computing P-MSE\n",
      "0\n"
     ]
    },
    {
     "name": "stdout",
     "output_type": "stream",
     "text": [
      "5\n",
      "10\n"
     ]
    }
   ],
   "source": [
    "Smooth_Hess_Grad_PMSE =  Compute_PMSE(model, PMSE_N1, PMSE_N2, data_use, args['OriginalDim'], function, rs, SmoothGrad_List, SmoothHess_List)\n",
    "SmoothGrad_PMSE = Smooth_Hess_Grad_PMSE[rs[0]].FirstOrder.mean()\n",
    "SmoothHess_PMSE = Smooth_Hess_Grad_PMSE[rs[0]].SecondOrder.mean()"
   ]
  },
  {
   "attachments": {},
   "cell_type": "markdown",
   "metadata": {},
   "source": [
    "# Estimate SoftPlus Hessiand and SoftPlus Gradient"
   ]
  },
  {
   "cell_type": "code",
   "execution_count": 18,
   "metadata": {},
   "outputs": [
    {
     "name": "stdout",
     "output_type": "stream",
     "text": [
      "Computing for point 0\n",
      "Computing for point 5\n",
      "Computing for point 10\n"
     ]
    }
   ],
   "source": [
    "SoftPlusGrad_List, SoftPlusHess_List = Generate_Grad_Hess_From_List(model, data_use, args, \"SoftPlus\")\n",
    "\n",
    "# Re Load model after potential modifications \n",
    "model = getattr(sys.modules[__name__], network_args['network'])(**network_args).cuda()\n",
    "model.load_state_dict(torch.load(\"./Models/\" + dataset  + \".pth\"))\n",
    "model = model.eval()\n",
    "model = model.cuda()"
   ]
  },
  {
   "attachments": {},
   "cell_type": "markdown",
   "metadata": {},
   "source": [
    "# Estimate P-MSE for SoftPlus Hessian and SoftPlus Gradient"
   ]
  },
  {
   "cell_type": "code",
   "execution_count": 19,
   "metadata": {},
   "outputs": [
    {
     "name": "stdout",
     "output_type": "stream",
     "text": [
      "Computing P-MSE\n",
      "0\n"
     ]
    },
    {
     "name": "stdout",
     "output_type": "stream",
     "text": [
      "5\n",
      "10\n"
     ]
    }
   ],
   "source": [
    "SoftPlus_Hess_Grad_PMSE = Compute_PMSE(model, PMSE_N1, PMSE_N2, data_use, args['OriginalDim'], function, rs, SoftPlusGrad_List, SoftPlusHess_List)\n",
    "SoftPlus_Grad_PMSE = SoftPlus_Hess_Grad_PMSE[rs[0]].FirstOrder.mean()\n",
    "SoftPlus_Hess_PMSE = SoftPlus_Hess_Grad_PMSE[rs[0]].SecondOrder.mean()"
   ]
  },
  {
   "attachments": {},
   "cell_type": "markdown",
   "metadata": {},
   "source": [
    "# Estimate Vanilla Gradient"
   ]
  },
  {
   "cell_type": "code",
   "execution_count": 20,
   "metadata": {},
   "outputs": [
    {
     "name": "stdout",
     "output_type": "stream",
     "text": [
      "Computing for point 0\n",
      "Computing for point 5\n",
      "Computing for point 10\n"
     ]
    }
   ],
   "source": [
    "VanillaGrad_List, VanillaHess_List = Generate_Grad_Hess_From_List(model, data_use, args, \"Vanilla\") # VanillaHess_List is a formality, it is 0 for ReLU networks interior and output neurons "
   ]
  },
  {
   "attachments": {},
   "cell_type": "markdown",
   "metadata": {},
   "source": [
    "# Estimate P-MSE for Vanilla Gradient"
   ]
  },
  {
   "cell_type": "code",
   "execution_count": 21,
   "metadata": {},
   "outputs": [
    {
     "name": "stdout",
     "output_type": "stream",
     "text": [
      "Computing P-MSE\n",
      "0\n"
     ]
    },
    {
     "name": "stdout",
     "output_type": "stream",
     "text": [
      "5\n",
      "10\n"
     ]
    }
   ],
   "source": [
    "Vanilla_Grad_PMSE = Compute_PMSE(model, PMSE_N1, PMSE_N2, data_use, args['OriginalDim'], function, rs, VanillaGrad_List, VanillaHess_List)\n",
    "VanillaGrad_PMSE = Vanilla_Grad_PMSE[rs[0]].FirstOrder.mean()"
   ]
  },
  {
   "attachments": {},
   "cell_type": "markdown",
   "metadata": {},
   "source": [
    "# Plot P-MSE For Each Method"
   ]
  },
  {
   "cell_type": "code",
   "execution_count": 22,
   "metadata": {},
   "outputs": [
    {
     "data": {
      "text/plain": [
       "Text(0.5, 0, 'Method')"
      ]
     },
     "execution_count": 22,
     "metadata": {},
     "output_type": "execute_result"
    },
    {
     "data": {
      "image/png": "[encoded data removed]",
      "text/plain": [
       "<Figure size 1500x1500 with 1 Axes>"
      ]
     },
     "metadata": {},
     "output_type": "display_data"
    }
   ],
   "source": [
    "fig = plt.figure(figsize  = (15,15))\n",
    "methods = [\"SmoothHess + SmoothGrad\", \"SmoothGrad\", \"SoftPlus Hess + Grad\", \"SoftPlus Grad\", \"Vanilla Grad\"]\n",
    "values  = [SmoothHess_PMSE, SmoothGrad_PMSE, SoftPlus_Hess_PMSE, SoftPlus_Grad_PMSE, VanillaGrad_PMSE]\n",
    "values = [float(val) for val in values]\n",
    "plt.bar(methods, values, color=['lightblue', 'blue', 'lightgreen', 'green', 'purple'])\n",
    "plt.title(\"P-MSE for Different Methods\", weight='bold', size = 20)\n",
    "plt.ylabel(\"P-MSE\", weight='bold', size = 20)\n",
    "plt.xlabel(\"Method\", weight = \"bold\", size = 20) \n"
   ]
  }
 ],
 "metadata": {
  "kernelspec": {
   "display_name": "base",
   "language": "python",
   "name": "python3"
  },
  "language_info": {
   "codemirror_mode": {
    "name": "ipython",
    "version": 3
   },
   "file_extension": ".py",
   "mimetype": "text/x-python",
   "name": "python",
   "nbconvert_exporter": "python",
   "pygments_lexer": "ipython3",
   "version": "3.8.3"
  },
  "orig_nbformat": 4
 },
 "nbformat": 4,
 "nbformat_minor": 2
}
